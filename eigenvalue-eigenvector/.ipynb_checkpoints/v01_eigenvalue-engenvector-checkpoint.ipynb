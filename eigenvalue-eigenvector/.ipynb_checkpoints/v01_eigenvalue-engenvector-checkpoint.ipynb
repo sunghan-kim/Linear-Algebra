{
 "cells": [
  {
   "cell_type": "markdown",
   "metadata": {},
   "source": [
    "# 고유값과 고유벡터 (eigenvalue & eigenvector)"
   ]
  },
  {
   "cell_type": "markdown",
   "metadata": {},
   "source": [
    "# 1. 고유값, 고유벡터란?"
   ]
  },
  {
   "cell_type": "markdown",
   "metadata": {},
   "source": [
    "## 1.1 수학적 정의"
   ]
  },
  {
   "cell_type": "markdown",
   "metadata": {},
   "source": [
    "> 행렬 A를 선형변환으로 봤을 때, 선형 변환 A에 의한 변환 결과가 자기 자신의 상수배가 되는 0이 아닌 벡터를 고유벡터(eigenvector)라 하고 이 상수배 값을 고유값(eigenvalue)라 한다."
   ]
  },
  {
   "cell_type": "markdown",
   "metadata": {},
   "source": [
    "- 고유값, 고유벡터는 정방행렬에 대해서만 정의된다.\n",
    "- 즉, n x n 정방행렬 A에 대해 $Av = \\lambda v$를 만족하는 0이 아닌 열벡터 $v$를 고유벡터, 상수 $\\lambda$를 고유값이라 정의한다."
   ]
  },
  {
   "cell_type": "markdown",
   "metadata": {},
   "source": [
    "$$\n",
    "A v = \\lambda v \\qquad \\qquad \\text{--- (1)}\n",
    "$$"
   ]
  },
  {
   "cell_type": "markdown",
   "metadata": {},
   "source": [
    "<br>"
   ]
  },
  {
   "cell_type": "markdown",
   "metadata": {},
   "source": [
    "$$\n",
    "\\begin{pmatrix}\n",
    "a_{11} & \\cdots & a_{1n} \\\\\n",
    "\\vdots & \\ddots & \\vdots \\\\\n",
    "a_{n1} & \\cdots & a_{nn} \n",
    "\\end{pmatrix}\n",
    "\\begin{pmatrix}\n",
    "V_1 \\\\\n",
    "\\vdots \\\\\n",
    "V_n\n",
    "\\end{pmatrix}\n",
    "= \\lambda \\,\n",
    "\\begin{pmatrix}\n",
    "V_1 \\\\\n",
    "\\vdots \\\\\n",
    "V_n\n",
    "\\end{pmatrix}\n",
    "\\qquad \\qquad \\text{--- (2)}\n",
    "$$"
   ]
  },
  {
   "cell_type": "markdown",
   "metadata": {},
   "source": [
    "- $\\lambda$  : 행렬 A의 고유값\n",
    "- $v$ : 행렬 A의 $\\lambda$에 대한 고유벡터"
   ]
  },
  {
   "cell_type": "markdown",
   "metadata": {},
   "source": [
    "- 고유값과 고유벡터는 행렬에 따라 정의되는 값이다.\n",
    "- 어떤 행렬은 이러한 고유값, 고유벡터가 아예 존재하지 않을 수도 있고, 어떤 행렬은 하나만 존재하거나 또는 최대 n개까지 존재할 수 있다."
   ]
  }
 ],
 "metadata": {
  "kernelspec": {
   "display_name": "Python 3",
   "language": "python",
   "name": "python3"
  },
  "language_info": {
   "codemirror_mode": {
    "name": "ipython",
    "version": 3
   },
   "file_extension": ".py",
   "mimetype": "text/x-python",
   "name": "python",
   "nbconvert_exporter": "python",
   "pygments_lexer": "ipython3",
   "version": "3.6.9"
  }
 },
 "nbformat": 4,
 "nbformat_minor": 4
}
