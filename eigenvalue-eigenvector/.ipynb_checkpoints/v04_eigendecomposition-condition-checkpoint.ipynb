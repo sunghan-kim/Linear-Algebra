{
 "cells": [
  {
   "cell_type": "markdown",
   "metadata": {},
   "source": [
    "# 고유값과 고유벡터 (eigenvalue & eigenvector)"
   ]
  },
  {
   "cell_type": "markdown",
   "metadata": {},
   "source": [
    "# 4. 고유값 분해(eigendecomposition) 가능 조건 - 일차독립\n",
    "\n",
    "- 앞서 말했지만, 모든 정방행렬이 고유값 분해가 가능한 것은 아니다.\n",
    "- n x n 정방행렬 A가 고유값 분해가 가능하려면 **행렬 A가 n개의 1차 독립인 고유벡터**를 가져야 한다."
   ]
  },
  {
   "cell_type": "markdown",
   "metadata": {},
   "source": [
    "<br>\n",
    "\n",
    "## 4.1 일차 독립 (linearly independent)\n",
    "\n",
    "- 어떤 벡터들의 집합 $\\{ v_1, \\, \\cdots, \\, v_n \\}$이 있을 때, 이들 벡터들 중 어느 한 벡터도 다른 벡터들의 일차결합으로 표현될 수 없으면 이 벡터들은 서로 일차독립이라고 정의한다."
   ]
  },
  {
   "cell_type": "markdown",
   "metadata": {},
   "source": [
    "<br>\n",
    "\n",
    "### 4.1.1 벡터들의 일차결합\n",
    "\n",
    "- 벡터들의 일차결합은 $a_1 v_1 + a_2 v_2 + \\cdots + a_n v_n \\quad (a_i \\text{is constant})$와 같이 상수를 곱하여 합친 형태를 말한다."
   ]
  },
  {
   "cell_type": "markdown",
   "metadata": {},
   "source": [
    "<br>\n",
    "\n",
    "## 4.2 기저(basis)\n",
    "\n",
    "- n 차원 공간은 최대 n개의 일차독립인 벡터들을 가질 수 있다.\n",
    "- n개의 일차독립인 벡터들은 이 공간을 생성하는 기저(basis) 역할을 수행한다."
   ]
  },
  {
   "cell_type": "markdown",
   "metadata": {},
   "source": [
    "- 예를 들어, 3차원 공간의 좌표축 단위벡터들인 $v_1$, $v_2$, $v_3$들이 있다고 하자.\n",
    "  - $v_1 = (1, 0, 0)$\n",
    "  - $v_2 = (0, 1, 0)$\n",
    "  - $v_3 = (0, 0, 1)$\n",
    "- 이 벡터들을 이용하여 3차원 공간의 모든 $(x, y, z)$ 좌표를 생성할 수 있음을 알 수 있다."
   ]
  },
  {
   "cell_type": "markdown",
   "metadata": {},
   "source": [
    "- 어떤 일차독립인 벡터들의 집합 $\\{ v_1, \\, \\cdots, \\, v_n \\}$의 일차 결합을 통해 어떤 공간의 모든 좌표를 생성할 수 있으면 이 벡터들을 이 공간의 기저(basis)라고 정의한다."
   ]
  },
  {
   "cell_type": "markdown",
   "metadata": {},
   "source": [
    "<br>\n",
    "\n",
    "## 4.3 고유값 분해 조건\n",
    "\n",
    "- n차 정방행렬이 고유값 분해가 가능하려면 n개의 일차 독립인 고유벡터가 존재해야 한다.\n",
    "- 이 말을 이해하기 위해서는 고유값, 고유벡터의 계산 과정에 대한 이해가 먼저 필요하다."
   ]
  }
 ],
 "metadata": {
  "kernelspec": {
   "display_name": "Python 3",
   "language": "python",
   "name": "python3"
  },
  "language_info": {
   "codemirror_mode": {
    "name": "ipython",
    "version": 3
   },
   "file_extension": ".py",
   "mimetype": "text/x-python",
   "name": "python",
   "nbconvert_exporter": "python",
   "pygments_lexer": "ipython3",
   "version": "3.6.9"
  }
 },
 "nbformat": 4,
 "nbformat_minor": 4
}
