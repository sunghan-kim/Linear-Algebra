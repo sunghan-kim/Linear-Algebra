{
 "cells": [
  {
   "cell_type": "markdown",
   "metadata": {},
   "source": [
    "# 고유값과 고유벡터 (eigenvalue & eigenvector)"
   ]
  },
  {
   "cell_type": "markdown",
   "metadata": {},
   "source": [
    "# 5. 고유값, 고유벡터의 계산\n",
    "\n",
    "- 고유값과 고유벡터를 정의하는 식인 (1)으로 다시 돌아가서 이를 $v$에 대해 정리해보면 다음과 같다.\n",
    "\n",
    "$$\n",
    "Av = \\lambda v \\\\\n",
    "Av - \\lambda v = 0 \\quad (0 \\text{ : zero matrix}) \\\\\n",
    "\\left( A - \\lambda E \\right) v = 0 \\quad (E \\text{ : identitty matrix}) \\qquad\\qquad \\text{--- (14)}\n",
    "$$"
   ]
  },
  {
   "cell_type": "markdown",
   "metadata": {},
   "source": [
    "- 우리가 구하고자 하는 고유값, 고유벡터는 식 (14)를 풀어서 나오는 $\\lambda$, $v$이다. (단, $v \\neq 0$)"
   ]
  },
  {
   "cell_type": "markdown",
   "metadata": {},
   "source": [
    "<br>\n",
    "\n",
    "## 5.1 특정방정식 (characteristic equation)\n",
    "\n",
    "- 그런데 식 (14)를 잘 보면 $\\left( A - \\lambda E \\right)$의 역행렬이 존재한다면 $v$는 항상 $v = (A - \\lambda E)^{-1} \\, 0 = 0$ 만을 해로 갖게 된다.\n",
    "- 그런데, 고유 벡터는 정의에 의해 영벡터가 아닌 백터여야 한다.\n",
    "- 그러므로 **$A - \\lambda E$의 역행렬이 존재하지 않는 경우에만 존재**할 수 있다.  \n",
    "$\\rightarrow$ 고유 벡터가 존재하기 위한 조건은 $det(A - \\lambda E) = 0$ 이어야 한다.\n",
    "\n",
    "$$\n",
    "det(A - \\lambda E) = 0 \\qquad\\qquad \\text{--- (15)}\n",
    "$$\n",
    "\n",
    "- 이 때, 식 (15)를 행렬 A의 **특정방정식(characteristic equation)**이라고 부른다."
   ]
  },
  {
   "cell_type": "markdown",
   "metadata": {},
   "source": [
    "<br>\n",
    "\n",
    "## 5.2. 특정방정식을 이용한 고유값, 고유벡터 계산\n",
    "\n",
    "- 특정방정식을 $\\lambda$에 대해 풀면 A의 고유값을 구할 수 있다.\n",
    "- 고유벡터는 이렇게 구한 $\\lambda$를 다시 식 (14)에 대입하여 계산한다."
   ]
  },
  {
   "cell_type": "markdown",
   "metadata": {},
   "source": [
    "<br>\n",
    "\n",
    "### 5.2.1 특정방정식 구하기\n",
    "\n",
    "- 다음과 같은 행렬 A에 대한 고유값, 고유벡터를 계산해보자.\n",
    "\n",
    "$$\n",
    "A = \n",
    "\\begin{bmatrix}\n",
    "2 & 0 & -2 \\\\\n",
    "1 & 1 & -2 \\\\\n",
    "0 & 0 & 1 \\\\\n",
    "\\end{bmatrix}\n",
    "\\qquad\\qquad \\text{--- (16)}\n",
    "$$"
   ]
  },
  {
   "cell_type": "markdown",
   "metadata": {},
   "source": [
    "- 이 때, 행렬 A를 식 (14)에 대입하여 특성다항식을 구해보면 다음과 같다.\n",
    "\n",
    "$$\n",
    "\\begin{matrix}\n",
    "\\begin{align*}\n",
    "det(A - \\lambda E) &=\n",
    "det \\left( \n",
    "\\begin{bmatrix}\n",
    "2 & 0 & -2 \\\\\n",
    "1 & 1 & -2 \\\\\n",
    "0 & 0 & 1 \\\\\n",
    "\\end{bmatrix} -\n",
    "\\lambda \\,\n",
    "\\begin{bmatrix}\n",
    "1 & 0 & 0 \\\\\n",
    "0 & 1 & 0 \\\\\n",
    "0 & 0 & 1 \\\\\n",
    "\\end{bmatrix}\n",
    "\\right) \\\\ \\\\\n",
    "&= \n",
    "\\begin{vmatrix}\n",
    "2 - \\lambda & 0 & -2 \\\\\n",
    "1 & 1 - \\lambda & -2 \\\\\n",
    "0 & 0 & 1 - \\lambda \\\\\n",
    "\\end{vmatrix} \\\\ \\\\\n",
    "&= (2 - \\lambda) \\, ((1 - \\lambda) \\, (1 - \\lambda) - 0) \\\\ \\\\\n",
    "&= (2 - \\lambda) \\, (1 - \\lambda)^{2} \n",
    "\\end{align*}\n",
    "\\end{matrix}\n",
    "\\qquad\\qquad\\text{--- (17)}\n",
    "$$"
   ]
  },
  {
   "cell_type": "markdown",
   "metadata": {},
   "source": [
    "- 그러므로 특정방정식은 다음과 같다.\n",
    "\n",
    "$$\n",
    "det(A - \\lambda E) = (2 - \\lambda) \\, (1 - \\lambda)^{2} \\qquad\\qquad\\text{--- (18)}\n",
    "$$"
   ]
  },
  {
   "cell_type": "markdown",
   "metadata": {},
   "source": [
    "<br>\n",
    "\n",
    "### 5.2.2 특정방정식의 해\n",
    "\n",
    "- 이제 특정방정식의 해는 $\\lambda = 1, \\; 2$이다.\n",
    "  - $\\lambda = 2$ : 단일근\n",
    "  - $\\lambda = 1$ : 이중근"
   ]
  },
  {
   "cell_type": "markdown",
   "metadata": {},
   "source": [
    "- $\\lambda$에 대응하는 고유벡터의 개수는 $\\lambda$가 몇중근이냐와 밀접한 관계가 있다.\n",
    "  - 단일근에 대해서는 1개의 고유벡터가 존재한다.\n",
    "  - 이중근에 대해서는 최대 2개의 고유벡터가 존재한다.\n",
    "  - 삼중근에 대해서는 최대 3개의 고유벡터가 존재한다.\n",
    "  - $\\dots$"
   ]
  },
  {
   "cell_type": "markdown",
   "metadata": {},
   "source": [
    "<br>\n",
    "\n",
    "### 5.2.3 $\\lambda = 2$ 일 때의 고유벡터\n",
    "\n",
    "- 먼저 $\\lambda = 2$를 식 (14)에 대입하여 고유벡터를 구해보자.\n",
    "\n",
    "$$\n",
    "\\begin{bmatrix}\n",
    "2 - \\lambda & 0 & -2 \\\\\n",
    "1 & 1 - \\lambda & -2 \\\\\n",
    "0 & 0 & 1 - \\lambda \\\\\n",
    "\\end{bmatrix}\n",
    "\\begin{bmatrix}\n",
    "v_x \\\\\n",
    "v_y \\\\\n",
    "v_z\n",
    "\\end{bmatrix}\n",
    "= \n",
    "\\begin{bmatrix}\n",
    "0 \\\\\n",
    "0 \\\\\n",
    "0\n",
    "\\end{bmatrix}\n",
    "$$"
   ]
  },
  {
   "cell_type": "markdown",
   "metadata": {},
   "source": [
    "$$\n",
    "\\begin{bmatrix}\n",
    "0 & 0 & -2 \\\\\n",
    "1 & -1 & -2 \\\\\n",
    "0 & 0 & -1 \\\\\n",
    "\\end{bmatrix}\n",
    "\\begin{bmatrix}\n",
    "v_x \\\\\n",
    "v_y \\\\\n",
    "v_z\n",
    "\\end{bmatrix}\n",
    "= \n",
    "\\begin{bmatrix}\n",
    "0 \\\\\n",
    "0 \\\\\n",
    "0\n",
    "\\end{bmatrix}\n",
    "$$"
   ]
  },
  {
   "cell_type": "markdown",
   "metadata": {},
   "source": [
    "$$\n",
    "-2 v_x = 0 \\\\\n",
    "v_x - v_y -2v_z = 0 \\\\\n",
    "-v_z = 0\n",
    "$$"
   ]
  },
  {
   "cell_type": "markdown",
   "metadata": {},
   "source": [
    "$$\n",
    "\\therefore \\quad v_x = v_y, \\; v_z = 0 \\qquad\\qquad \\text{--- (19)}\n",
    "$$"
   ]
  },
  {
   "cell_type": "markdown",
   "metadata": {},
   "source": [
    "- 따라서 $\\lambda = 2$에 대응하느 고유벡터는 $v = [1, \\, 1, \\, 0]^T$로 잡을 수 있다."
   ]
  },
  {
   "cell_type": "markdown",
   "metadata": {},
   "source": [
    "<br>\n",
    "\n",
    "### 5.2.4 $\\lambda = 1$일 때의 고유벡터\n",
    "\n",
    "$$\n",
    "\\begin{bmatrix}\n",
    "1 & 0 & -2 \\\\\n",
    "1 & 0 & -2 \\\\\n",
    "0 & 0 & 0 \\\\\n",
    "\\end{bmatrix}\n",
    "\\begin{bmatrix}\n",
    "v_x \\\\\n",
    "v_y \\\\\n",
    "v_z\n",
    "\\end{bmatrix}\n",
    "= \n",
    "\\begin{bmatrix}\n",
    "0 \\\\\n",
    "0 \\\\\n",
    "0\n",
    "\\end{bmatrix}\n",
    "$$"
   ]
  },
  {
   "cell_type": "markdown",
   "metadata": {},
   "source": [
    "$$\n",
    "\\therefore v_x = 2v_z \\qquad\\qquad \\text{--- (20)}\n",
    "$$"
   ]
  },
  {
   "cell_type": "markdown",
   "metadata": {},
   "source": [
    "- x좌표가 z좌표의 2배인 벡터들은 무수히 많다.\n",
    "- 이들은 $[2, 0, 1]$, $[0, 1, 0]$ 의 일차결합으로 표현할 수 있다.\n",
    "- 따라서 $\\lambda = 1$에 대응하는 고유벡터를 $[2, 0, 1]$, $[0, 1, 0]$으로 잡을 수 있다."
   ]
  },
  {
   "cell_type": "markdown",
   "metadata": {},
   "source": [
    "<br>\n",
    "\n",
    "**참고**\n",
    "\n",
    "- x좌표가 z좌표의 2배인 임이의 벡터는 $[2t, s, t]$로 표현할 수 있다. (단 $t, s$는 임의의 실수)\n",
    "- 그런데, 이는 $[2t, s, t] = t \\times [2, 0, 1] + s \\times [0, 1, 0]$와 같이 $[2, 0, 1]$과 $[0, 1, 0]$의 일차결합으로 표현될 수 있다."
   ]
  },
  {
   "cell_type": "markdown",
   "metadata": {},
   "source": [
    "<br>\n",
    "\n",
    "## 5.3 고유벡터의 유일하지 않은 성질\n",
    "\n",
    "- 이제 고유값은 어떻게 구하는 지 알수 있다.\n",
    "- 하지만 **어떤 행렬에 대해 고유값은 유일하게 결정되지만 고유벡터는 유일하지 않기 때문**에 애매한 느낌을 받을 수 있다.\n",
    "- 이는 다음 내용을 보면 알 수 있다."
   ]
  },
  {
   "cell_type": "markdown",
   "metadata": {},
   "source": [
    "- 식 (1)의 양변에 상수 $c$를 곱하면 다음과 같다.\n",
    "\n",
    "$$\n",
    "A (cv) = \\lambda (cv) \\qquad\\qquad \\text{--- (21)}\n",
    "$$\n",
    "\n",
    "- 위 식을 통해 $v$가 $\\lambda$에 대한 고유벡터이면, 0이 아닌 임의의 상수 $c$에 대해 $cv$ 도한 $\\lambda$에 대한 고유벡터임을 알 수 있다."
   ]
  },
  {
   "cell_type": "markdown",
   "metadata": {},
   "source": [
    "- 또한, $v_1$, $v_2$가 모두 고유값 $\\lambda$에 대응하는 고유벡터라고 하면, 임의의 상수 $c_1, c_2$에 대해 다음과 같은 식이 성립된다.\n",
    "\n",
    "$$\n",
    "A(c_1 v_1 + c_2 v_2) = c_1 \\lambda v_1 + c_2 \\lambda v_2 = \\lambda(c_1 v_1 + c_2 v_2) \\qquad\\qquad\\text{--- (22)}\n",
    "$$\n",
    "\n",
    "- 그러므로 $c_1 v_1 + c_2 v_2$ 또한 $\\lambda$에 대한 고유벡터가 됨을 알 수 있다."
   ]
  },
  {
   "cell_type": "markdown",
   "metadata": {},
   "source": [
    "<br>\n",
    "\n",
    "## 5.4 고유벡터 선택\n",
    "\n",
    "- 따라서 고유벡터는 식 (19), 식 (20) 등과 같은 제약 조건을 만족하는 벡터들 중에서 어느 벡터를 사용해도 무방하다.\n",
    "- 하지만 보통은 **벡터의 크기를 1로 정규화(normalized)한 단위 벡터**를 고유벡터로 잡는 것이 일반적이다.\n",
    "- 단, 식 (20)의 경우에는 자유도(degree of freedom)가 2이기 때문에 일차독립인 2개의 고유벡터를 잡아야만 가능한 모든 고유벡터들을 대표할 수 있다."
   ]
  },
  {
   "cell_type": "markdown",
   "metadata": {},
   "source": [
    "<br>\n",
    "\n",
    "## 5.5 행렬 대각화 성립 확인\n",
    "\n",
    "- 이제 이렇게 구한 고유값, 고유벡터에 대해 아래와 같은 행렬 대각화가 정말로 성립함을 쉽게 확인할 수 있다.\n",
    "- 또한 고유벡터들의 스케일을 바꾸거나 순서를 바꾸어도 대각화가 성립함을 확인할 수 있다.\n",
    "\n",
    "$$\n",
    "\\begin{bmatrix}\n",
    "2 & 0 & -2 \\\\\n",
    "1 & 1 & -2 \\\\\n",
    "0 & 0 & 1 \\\\\n",
    "\\end{bmatrix}\n",
    "=\n",
    "\\begin{bmatrix}\n",
    "1 & 0 & 2 \\\\\n",
    "1 & 1 & 0 \\\\\n",
    "0 & 0 & 1 \\\\\n",
    "\\end{bmatrix}\n",
    "\\begin{bmatrix}\n",
    "2 & 0 & 0 \\\\\n",
    "0 & 1 & 0 \\\\\n",
    "0 & 0 & 1 \\\\\n",
    "\\end{bmatrix}\n",
    "\\begin{bmatrix}\n",
    "1 & 0 & 2 \\\\\n",
    "1 & 1 & 0 \\\\\n",
    "0 & 0 & 1 \\\\\n",
    "\\end{bmatrix}^{-1}\n",
    "\\qquad\\qquad\\text{--- (23)}\n",
    "$$"
   ]
  },
  {
   "cell_type": "markdown",
   "metadata": {},
   "source": [
    "<br>\n",
    "\n",
    "# Reference\n",
    "\n",
    "- [https://darkpgmr.tistory.com/105](https://darkpgmr.tistory.com/105)"
   ]
  }
 ],
 "metadata": {
  "kernelspec": {
   "display_name": "Python 3",
   "language": "python",
   "name": "python3"
  },
  "language_info": {
   "codemirror_mode": {
    "name": "ipython",
    "version": 3
   },
   "file_extension": ".py",
   "mimetype": "text/x-python",
   "name": "python",
   "nbconvert_exporter": "python",
   "pygments_lexer": "ipython3",
   "version": "3.6.9"
  }
 },
 "nbformat": 4,
 "nbformat_minor": 4
}
