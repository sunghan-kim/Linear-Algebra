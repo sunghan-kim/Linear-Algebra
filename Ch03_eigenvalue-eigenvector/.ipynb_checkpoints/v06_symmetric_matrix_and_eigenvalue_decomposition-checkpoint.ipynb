{
 "cells": [
  {
   "cell_type": "markdown",
   "metadata": {
    "colab_type": "text",
    "id": "A8vZkcHF1_Lj"
   },
   "source": [
    "# 고유값과 고유벡터 (eigenvalue & eigenvector)"
   ]
  },
  {
   "cell_type": "markdown",
   "metadata": {
    "colab_type": "text",
    "id": "tb8M2mUH2Tsv"
   },
   "source": [
    "# 6. 대칭행렬(symmetric matrix)과 고유값 분해"
   ]
  },
  {
   "cell_type": "markdown",
   "metadata": {
    "colab_type": "text",
    "id": "kpsAdvV82i3v"
   },
   "source": [
    "## 6.1 대칭행렬 (symmetric matrix)\n",
    "\n",
    "- 정방행렬들 중에서 대각원소를 중심으로 원소값들이 대칭되는 행렬\n",
    "- 즉, $A^T = A$ (모든 $i, j$에 대해 $a_{ij} = a_{ji}$)인 행렬"
   ]
  },
  {
   "cell_type": "markdown",
   "metadata": {
    "colab_type": "text",
    "id": "ZKQ1FhOr21Xb"
   },
   "source": [
    "<br>\n",
    "\n",
    "## 6.2 고유값 분해와 관련된 대칭행렬의 성질\n",
    "\n",
    "- 대칭행렬은 고유값 분해와 관련하여 매우 좋은 성질 2가지를 가지고 있다.\n",
    "  1. 실원소(real-valued) 대칭행렬은 항상 고유값 대각화가 가능하다.\n",
    "  2. 직교행렬(orthogonal matrix)로 대각화가 가능하다."
   ]
  },
  {
   "cell_type": "markdown",
   "metadata": {
    "colab_type": "text",
    "id": "aJVaqtkH3zbp"
   },
   "source": [
    "$$\n",
    "\\begin{align*}\n",
    "A &= P \\Lambda P^{-1} \\\\\n",
    "&= P \\Lambda P^{T} \\qquad\\qquad \\text{--- (24)} \\qquad \\text{only } \\, P P^T = E \\quad (P^{-1} = P^T)\n",
    "\\end{align*}\n",
    "$$"
   ]
  },
  {
   "cell_type": "markdown",
   "metadata": {
    "colab_type": "text",
    "id": "vW37UBso3z8G"
   },
   "source": [
    "- 즉, 모든 대칭행렬은 위의 식 (24)와 같이 직교행렬을 이용한 고유값 대각화가 가능하다.\n",
    "  - [증명 1](http://www.doc.ic.ac.uk/~ae/papers/lecture05.pdf)\n",
    "  - [증명 2](http://www.quandt.com/papers/basicmatrixtheorems.pdf)"
   ]
  },
  {
   "cell_type": "markdown",
   "metadata": {
    "colab_type": "text",
    "id": "bocqJk-f4HXX"
   },
   "source": [
    "<br>\n",
    "\n",
    "**참고**\n",
    "\n",
    "- 위 성질은 원소값이 실수(real number)인 경우에 항상 성립하는 성질이다.\n",
    "- 만일 원소값이 복소수(complex number)인 경우에는 유니터리(unitary) 행렬로 항상 대각화 가능하다.\n",
    "- 그런데 사실 직교행렬을 복소수 공간에서 정의한 것이 유니터리 행렬이기 때문에 대칭행렬은 항상 대각화 가능하다고 생각하면 된다."
   ]
  },
  {
   "cell_type": "markdown",
   "metadata": {
    "colab_type": "text",
    "id": "3z14hq9N4g8w"
   },
   "source": [
    "<br>\n",
    "\n",
    "## 6.3 대칭행렬의 성질 활용\n",
    "\n",
    "- 대칭행렬(symmetric matrix)의 이러한 성질은 특이값 분해(SVD), 주성분분석(PCA) 등에서 가장 기본이 되는 성질로 활용된다.\n",
    "- 모든 정방행렬이 고유값 분해가 가능한 것은 아니지만 **대칭행렬은 항상 고유값 분해가 가능**하며 더구나 **직교행렬로 대각화 가능**함을 기억하자."
   ]
  },
  {
   "cell_type": "markdown",
   "metadata": {
    "colab_type": "text",
    "id": "3SXPhOlU5ClQ"
   },
   "source": [
    "<br>\n",
    "\n",
    "## 6.4 직교(orthogonal)와 정규직교(orthonormal), 그리고 직교행렬(orthogonal matrix)"
   ]
  },
  {
   "cell_type": "markdown",
   "metadata": {
    "colab_type": "text",
    "id": "D9ZnB43m5K2W"
   },
   "source": [
    "### 6.4.1 직교 (orthogonal)\n",
    "\n",
    "- 두 벡터 $v_1, v_2$가 서로 수직 ($v_1 \\cdot v_2 = 0$)  \n",
    "$\\rightarrow$ 두 벡터 $v_1, v_2$는 서로 orthogonal 하다고 한다."
   ]
  },
  {
   "cell_type": "markdown",
   "metadata": {
    "colab_type": "text",
    "id": "_RkbmNUd5eOv"
   },
   "source": [
    "<br>\n",
    "\n",
    "### 6.4.2 정규화 (normalization)\n",
    "\n",
    "- $v' = \\frac{v}{||v||}$ 와 같이 어떤 벡터를 크기가 1인 단위벡터로 만드는 것"
   ]
  },
  {
   "cell_type": "markdown",
   "metadata": {
    "colab_type": "text",
    "id": "SxwToDl55qL7"
   },
   "source": [
    "<br>\n",
    "\n",
    "### 6.4.3 정규직교 (orthonormal)\n",
    "\n",
    "- orthogonal과 normal이 합쳐진 말\n",
    "- 두 벡터 $v_1, v_2$가 모두 단위벡터(unit vector)이면서 수직이면 두 벡터 $v_1, v_2$는 orthonormal(정규직교)하다고 한다."
   ]
  },
  {
   "cell_type": "markdown",
   "metadata": {
    "colab_type": "text",
    "id": "YYNvqup15-WG"
   },
   "source": [
    "<br>\n",
    "\n",
    "### 6.4.4 orthogonal vs orthonormal\n",
    "\n",
    "- orthogonal : $v_1 \\cdot v_2 = 0$\n",
    "- orthonormal : $v1 \\cdot v_2 = 0 \\quad \\& \\quad ||v_1|| = 1, \\; ||v_2|| = 1$  \n",
    "  \n",
    "\n",
    "- 즉, orthogonal, orthonormal은 **벡터들 사이의 관계를 나타내는 말이다.\n",
    "- 이는 행렬로 넘어가면 조금 의미가 달라진다."
   ]
  },
  {
   "cell_type": "markdown",
   "metadata": {
    "colab_type": "text",
    "id": "gwcAal1x6QfO"
   },
   "source": [
    "<br>\n",
    "\n",
    "### 6.4.5 직교행렬 (orthogonal matrix)\n",
    "\n",
    "- 행렬에서는 직교행렬(orthogonal matrix)는 있지만, 정규직교행렬(orthonormal matrix)라는 말은 없다."
   ]
  },
  {
   "cell_type": "markdown",
   "metadata": {
    "colab_type": "text",
    "id": "P8CtXxFs6sZW"
   },
   "source": [
    "- 직교행렬(orthogonal matrix)의 수학적 정의 : **자신의 전치행렬(transpose)를 역행렬로 갖는 정방행렬**\n",
    "\n",
    "$$\n",
    "\\begin{align*}\n",
    "A^{-1} = A^T \\\\\n",
    "A A^T = E\n",
    "\\end{align*}\n",
    "\\qquad\\qquad \\text{--- (25)}\n",
    "$$"
   ]
  },
  {
   "cell_type": "markdown",
   "metadata": {
    "colab_type": "text",
    "id": "2vvPYx1O7IJN"
   },
   "source": [
    "- 이와 같이 직교행렬(orthogonal matrix)은 transpose를 시키면(행렬의 열과 행 원소를 서로 바꾸면) 자신의 역행렬이 되기 때문에 다양한 선형대수학 계산에서 매우 편리한 성질을 가진 행렬이다."
   ]
  },
  {
   "cell_type": "markdown",
   "metadata": {
    "colab_type": "text",
    "id": "AIKbt2pN7Wde"
   },
   "source": [
    "<br>\n",
    "\n",
    "### 6.4.6 직교행렬의 열벡터, 행벡터의 orthonormal한 성질\n",
    "\n",
    "- 그런데, 직교행렬의 열벡터들은 서로 orthonormal(정규직교)한 성질을 가지고 있다.\n",
    "- 즉, 직교행렬을 구성하는 열벡터들을 $v_1, v_2, \\dots, v_n$이라 했을 때 이들은 모두 단위벡터(unit vector)이면서 또한 서로 서로 수직인 성질을 갖는다.\n",
    "- 이는 식 (25)로부터 쉽게 도출될 수 있다.\n",
    "\n",
    "$$\n",
    "||v_i|| = 1, \\quad i=1, \\dots, n \\\\\n",
    "$$\n",
    "\n",
    "$$\n",
    "v_i \\cdot v_j = 0, \\quad i \\neq j \\qquad \\text{--- (26)}\n",
    "$$\n",
    "\n",
    "- 이러한 성질은 열벡터가 아닌 행벡터들에 대해서도 동일하게 성립한다. (즉, 행벡터들도 서로 orthonormal 하다.)"
   ]
  },
  {
   "cell_type": "markdown",
   "metadata": {
    "colab_type": "text",
    "id": "bQV3Hgu78a7l"
   },
   "source": [
    "<br>\n",
    "\n",
    "### 6.4.7 직교행렬의 또 다른 정의\n",
    "\n",
    "- 즉, 직교행렬(orthogonal matrix)은 그 행렬을 구성하는 열벡터(행벡터)들이 서로 수직(orthogonal)이면서 크기가 1인(normal한) 행렬로도 정의될 수 있다."
   ]
  },
  {
   "cell_type": "markdown",
   "metadata": {
    "colab_type": "text",
    "id": "t3cfKStH8uL_"
   },
   "source": [
    "<br>\n",
    "\n",
    "### 6.4.8 정리\n",
    "\n",
    "- 벡터들이 orthogonal하다 : 서로 수직이다.\n",
    "- 벡터들이 orthonormal하다 : 서로 수직이면서크기가 1인 단위벡터이다.\n",
    "- 행렬이 orthogonal하다. : $A A^T = E$이다. (행렬을 구성하는 열벡터, 또는 행벡터들이 orthonormal하다)"
   ]
  }
 ],
 "metadata": {
  "colab": {
   "collapsed_sections": [],
   "name": "v06_symmetric-matrix-and-eigenvalue-decomposition.ipynb",
   "provenance": [],
   "toc_visible": true
  },
  "kernelspec": {
   "display_name": "Python 3",
   "language": "python",
   "name": "python3"
  },
  "language_info": {
   "codemirror_mode": {
    "name": "ipython",
    "version": 3
   },
   "file_extension": ".py",
   "mimetype": "text/x-python",
   "name": "python",
   "nbconvert_exporter": "python",
   "pygments_lexer": "ipython3",
   "version": "3.6.9"
  }
 },
 "nbformat": 4,
 "nbformat_minor": 4
}
