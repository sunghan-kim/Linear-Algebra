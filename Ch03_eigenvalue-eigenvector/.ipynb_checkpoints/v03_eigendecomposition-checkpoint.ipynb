{
 "cells": [
  {
   "cell_type": "markdown",
   "metadata": {},
   "source": [
    "# 고유값과 고유벡터 (eigenvalue & eigenvector)"
   ]
  },
  {
   "cell_type": "markdown",
   "metadata": {},
   "source": [
    "# 3. 고유값 분해를 이용한 대각화 - eigendecomposition\n",
    "\n",
    "- 고유값, 고유벡터는 정방행렬의 대각화와 밀접한 관련이 있다.\n",
    "  (eigendecomposition은 정방행렬에 대해서만 가능함)"
   ]
  },
  {
   "cell_type": "markdown",
   "metadata": {},
   "source": [
    "<br>\n",
    "\n",
    "## 3.1 대각행렬과 행렬곱\n",
    "\n",
    "- 대각행렬 뒤에 곱하면 행렬의 열벡터들이 대각원소의 크기만큼 상수배된다.\n",
    "- 대각행렬 앞에 곱하면 행렬의 행벡터들이 상수배가 된다."
   ]
  },
  {
   "cell_type": "markdown",
   "metadata": {},
   "source": [
    "- 예를 들어, 3 x 3 행렬의 경우를 보면 다음과 같다.\n",
    "\n",
    "$$\n",
    "\\begin{pmatrix}\n",
    "v_{11} & v_{12} & v_{13} \\\\\n",
    "v_{21} & v_{22} & v_{23} \\\\\n",
    "v_{31} & v_{32} & v_{33}\n",
    "\\end{pmatrix}\n",
    "\\begin{pmatrix}\n",
    "\\lambda_1 & 0 & 0 \\\\\n",
    "0 & \\lambda_2 & 0 \\\\\n",
    "0 & 0 & \\lambda_3\n",
    "\\end{pmatrix}\n",
    "=\n",
    "\\begin{pmatrix}\n",
    "\\lambda_1 v_{11} & \\lambda_2 v_{12} & \\lambda_3 v_{13} \\\\\n",
    "\\lambda_1 v_{21} & \\lambda_2 v_{22} & \\lambda_3 v_{23} \\\\\n",
    "\\lambda_1 v_{31} & \\lambda_2 v_{32} & \\lambda_3 v_{33}\n",
    "\\end{pmatrix}\n",
    "\\qquad \\qquad \\text{--- (3)}\n",
    "$$"
   ]
  },
  {
   "cell_type": "markdown",
   "metadata": {},
   "source": [
    "<br>\n",
    "\n",
    "## 3.2 대각화 분해\n",
    "\n",
    "- 행렬 A의 고유값을 $\\lambda_i$, 고유벡터를 $v_i$, $i=1, 2, \\cdots, n$이라 하자.\n",
    "\n",
    "$$\n",
    "\\begin{matrix}\n",
    "A v_1 = \\lambda_1 v_1 \\\\\n",
    "A v_2 = \\lambda_2 v_2 \\\\\n",
    "\\vdots \\\\\n",
    "A v_n = \\lambda_n v_n \\\\\n",
    "\\end{matrix}\n",
    "\\qquad \\qquad \\text{--- (4)}\n",
    "$$"
   ]
  },
  {
   "cell_type": "markdown",
   "metadata": {},
   "source": [
    "- 이제 식 (4) 를 한꺼번에 표현하여 정리하면 다음이 성립함을 알 수 있다.\n",
    "\n",
    "$$\n",
    "\\begin{matrix}\n",
    "\\begin{align*}\n",
    "A \\, [v_1 \\; v_2 \\; \\cdots \\; v_n] &= \n",
    "[\\lambda_1 v_1 \\; \\lambda_2 v_2 \\; \\cdots \\; \\lambda_n v_n] \\\\\n",
    "&=\n",
    "[v_1 \\; v_2 \\; \\cdots \\; v_n]\n",
    "\\begin{bmatrix}\n",
    "\\lambda_1 & \t\t  & & 0 \\\\\n",
    "\t\t  & \\lambda_2 & &   \\\\\n",
    "\t\t  &           & \\ddots & \\\\\n",
    "0\t\t  & \t\t  &        & \\lambda_n\t\t  \n",
    "\\end{bmatrix}\n",
    "\\end{align*}\n",
    "\\end{matrix}\n",
    "\\qquad\\qquad \\text{--- (5)}\n",
    "$$"
   ]
  },
  {
   "cell_type": "markdown",
   "metadata": {},
   "source": [
    "- 즉, 행렬 A의 고유벡터들을 열벡터로 하는 행렬 P, 고유값들을 대각 원소로 하는 대각행렬을  $\\Lambda$ 라 하면 다음  식이 성립한다.\n",
    "\n",
    "$$\n",
    "AP = P \\Lambda \\qquad\\qquad \\text{--- (6)}\n",
    "$$"
   ]
  },
  {
   "cell_type": "markdown",
   "metadata": {},
   "source": [
    "- 즉,\n",
    "\n",
    "$$\n",
    "A = P \\Lambda P^{-1} \\qquad\\qquad \\text{--- (7)}\n",
    "$$"
   ]
  },
  {
   "cell_type": "markdown",
   "metadata": {},
   "source": [
    "- 이와 같이 행렬 A는 자신의 고유벡터들을 열벡터로 하는 행렬과 고유값을 대각원소로 하는 행렬의 곱으로 대각화 분해가 가능하다.\n",
    "- 이러한 대각화 분해를 eigendecomposition이라고 한다."
   ]
  },
  {
   "cell_type": "markdown",
   "metadata": {},
   "source": [
    "<br>\n",
    "\n",
    "## 3.3 대각화 분해의 예\n",
    "\n",
    "- 한 예로, A 가 다음과 같을 떄 A는 다음과 같이 대각화가 가능하다.\n",
    "\n",
    "$$\n",
    "A = \n",
    "\\begin{bmatrix}\n",
    "1 & 1 & 0 \\\\\n",
    "0 & 2 & 1 \\\\\n",
    "0 & 0 & 3 \n",
    "\\end{bmatrix}\n",
    "=\n",
    "\\begin{bmatrix}\n",
    "1 & 1 & 1 \\\\\n",
    "0 & 1 & 2 \\\\\n",
    "0 & 0 & 2 \n",
    "\\end{bmatrix}\n",
    "\\begin{bmatrix}\n",
    "1 & 0 & 0 \\\\\n",
    "0 & 2 & 0 \\\\\n",
    "0 & 0 & 3 \n",
    "\\end{bmatrix}\n",
    "{\n",
    "\\begin{bmatrix}\n",
    "1 & 1 & 1 \\\\\n",
    "0 & 1 & 2 \\\\\n",
    "0 & 0 & 2 \n",
    "\\end{bmatrix}    \n",
    "}^{-1}\n",
    "\\qquad\\qquad \\text{--- (8)}\n",
    "$$"
   ]
  },
  {
   "cell_type": "markdown",
   "metadata": {},
   "source": [
    "<br>\n",
    "\n",
    "## 3.4 대각화 분해가 가능한 정방행렬\n",
    "\n",
    "- 모든 정방행렬이 이런 방식의 eigendecomposition이 가능한 것은 아니다.\n",
    "- 하지만 대각화가 가능한 경우는 뒤에 적기로 하고 일단은 대각화를 하면 어떤 게 좋은 지 알아보자."
   ]
  },
  {
   "cell_type": "markdown",
   "metadata": {},
   "source": [
    "<br>\n",
    "\n",
    "## 3.5 대각화 분해의 활용\n",
    "\n",
    "- 행렬 A이 eigendecomposition을 알면 행렬식 값 det(A), A의 거듭제곱, 역행렬, 대각합(trace), 행렬의 다항식 등을 매우 손쉽게 계산할 수 있다."
   ]
  },
  {
   "cell_type": "markdown",
   "metadata": {},
   "source": [
    "<br>\n",
    "\n",
    "### 3.5.1 행렬 A의 행렬식 값 ; det(A)\n",
    "\n",
    "$$\n",
    "\\begin{align*}\n",
    "det(A) &= det \\left( P \\Lambda P^{-1} \\right) \\\\\n",
    "&= det(P) \\; det(\\Lambda) \\; det(P)^{-1} \\\\\n",
    "&= det(\\Lambda) \\\\\n",
    "&= \\lambda_1 \\, \\lambda_2 \\, \\cdots \\, \\lambda_n\n",
    "\\end{align*}\n",
    "\\qquad\\qquad \\text{--- (9)}\n",
    "$$"
   ]
  },
  {
   "cell_type": "markdown",
   "metadata": {},
   "source": [
    "<br>\n",
    "\n",
    "### 3.5.2 행렬 A의 거듭제곱\n",
    "\n",
    "$$\n",
    "\\begin{align*}\n",
    "A^k &= \\left( P \\Lambda P^{-1} \\right)^k \\\\\n",
    "&= \\left( P \\Lambda P^{-1} \\right)\n",
    "\\left( P \\Lambda P^{-1} \\right)\n",
    "\\cdots\n",
    "\\left( P \\Lambda P^{-1} \\right) \\\\\n",
    "&= P \\Lambda^k P^{-1} \\\\\n",
    "&= P \\, diag(\\lambda_1^k, \\, \\cdots, \\, \\lambda_n^k) \\, P^{-1}\n",
    "\\end{align*}\n",
    "\\qquad\\qquad \\text{--- (10)}\n",
    "$$"
   ]
  },
  {
   "cell_type": "markdown",
   "metadata": {},
   "source": [
    "<br>\n",
    "\n",
    "### 3.5.3 행렬 A의 역행렬\n",
    "\n",
    "$$\n",
    "\\begin{align*}\n",
    "A^{-1} &= \\left( P \\Lambda P^{-1} \\right)^{-1} \\\\\n",
    "&= P \\Lambda^{-1} P^{-1} \\\\\n",
    "&= P \\, diag(1/\\lambda_1, \\, \\cdots, \\, 1/\\lambda_n) \\, P^{-1}\n",
    "\\end{align*}\n",
    "\\qquad \\qquad \\text{--- (11)}\n",
    "$$"
   ]
  },
  {
   "cell_type": "markdown",
   "metadata": {},
   "source": [
    "<br>\n",
    "\n",
    "### 3.5.4 행렬 A의 대각합(trace)\n",
    "\n",
    "$$\n",
    "\\begin{align*}\n",
    "tr(A) &= tr(P \\Lambda P^{-1}) \\\\\n",
    "&= tr(\\Lambda) \\quad \\left( \\because tr(AB) = tr(BA) \\right) \\\\\n",
    "&= \\lambda_1 + \\cdots + \\lambda_n\n",
    "\\end{align*}\n",
    "\\qquad\\qquad \\text{--- (12)}\n",
    "$$"
   ]
  },
  {
   "cell_type": "markdown",
   "metadata": {},
   "source": [
    "<br>\n",
    "\n",
    "### 3.5.5 행렬 A의 다항식\n",
    "\n",
    "$$\n",
    "\\begin{align*}\n",
    "f(A) &= a_0 E + a_1 A + \\cdots + a_n A^n \n",
    "\\quad \\left( f(x) = a_0 + a_1 x + \\cdots + a_n x^n \\right) \\\\\n",
    "&= a_0 P P^{-1} + a_1 P \\Lambda P^{-1} + \\cdots + a_n P \\Lambda^n P^{-1} \\\\\n",
    "&= P \\left( a_0 P^{-1} + a_1 \\Lambda P^{-1} + \\cdots + a_n \\Lambda^n P^{-1} \\right) \\\\\n",
    "&= P \\left( a_o E + a_1 \\Lambda + \\cdots + a_n \\Lambda^n \\right) P^{-1} \\\\\n",
    "&= P \\, diag(f(\\lambda_1), \\, \\cdots, \\, f(\\lambda_n)) \\, P^{-1}\n",
    "\\end{align*}\n",
    "\\qquad\\qquad \\text{--- (13)}\n",
    "$$"
   ]
  },
  {
   "cell_type": "markdown",
   "metadata": {},
   "source": [
    "<br>\n",
    "\n",
    "# Reference\n",
    "\n",
    "- [https://darkpgmr.tistory.com/105](https://darkpgmr.tistory.com/105)"
   ]
  }
 ],
 "metadata": {
  "kernelspec": {
   "display_name": "Python 3",
   "language": "python",
   "name": "python3"
  },
  "language_info": {
   "codemirror_mode": {
    "name": "ipython",
    "version": 3
   },
   "file_extension": ".py",
   "mimetype": "text/x-python",
   "name": "python",
   "nbconvert_exporter": "python",
   "pygments_lexer": "ipython3",
   "version": "3.6.9"
  }
 },
 "nbformat": 4,
 "nbformat_minor": 4
}
